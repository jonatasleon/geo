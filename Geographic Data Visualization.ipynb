{
 "cells": [
  {
   "cell_type": "markdown",
   "metadata": {},
   "source": [
    "# Geographic Data Visualization"
   ]
  },
  {
   "cell_type": "code",
   "execution_count": 1,
   "metadata": {},
   "outputs": [],
   "source": [
    "import io\n",
    "import warnings\n",
    "import datetime as dt\n",
    "\n",
    "import requests\n",
    "import pandas as pd\n",
    "import xarray as xr\n",
    "\n",
    "from ipyleaflet import Map, basemaps, Heatmap, WMSLayer, Velocity\n",
    "\n",
    "warnings.filterwarnings('ignore')"
   ]
  },
  {
   "cell_type": "markdown",
   "metadata": {},
   "source": [
    "## First, some config"
   ]
  },
  {
   "cell_type": "code",
   "execution_count": 2,
   "metadata": {},
   "outputs": [],
   "source": [
    "# Date to obtain data relative to same period\n",
    "date = dt.datetime(2018, 10, 9)\n",
    "\n",
    "# If this notebook is public, the key above is invalid\n",
    "# So, you need get a new one in https://nrt4.modaps.eosdis.nasa.gov/profile/app-keys\n",
    "active_fire_key = '276771C6-D4D4-11E8-85C6-D2089B439298'\n",
    "\n",
    "date_active_fire = date.strftime('%Y%j')\n",
    "local_active_fire = 'Global'\n",
    "url_active_fire = \"https://nrt4.modaps.eosdis.nasa.gov/api/v2/files/contents/FIRMS/viirs/{local}/\" \\\n",
    "                  \"VIIRS_I_{local}_VNP14IMGTDL_NRT_{date}.txt\".format\n",
    "\n",
    "date_sea_winds = date.strftime('%Y%m%d')\n",
    "url_sea_winds = 'http://www.ncei.noaa.gov/thredds/dodsC/uv/daily/2000s/uv{date}rt.nc'.format"
   ]
  },
  {
   "cell_type": "markdown",
   "metadata": {},
   "source": [
    "## Getting data"
   ]
  },
  {
   "cell_type": "markdown",
   "metadata": {},
   "source": [
    "In order to play with geographic data we'll use VIIRS active fire data from [LANCE-NRT](https://nrt4.modaps.eosdis.nasa.gov/)."
   ]
  },
  {
   "cell_type": "code",
   "execution_count": 3,
   "metadata": {},
   "outputs": [
    {
     "data": {
      "text/html": [
       "<div>\n",
       "<style scoped>\n",
       "    .dataframe tbody tr th:only-of-type {\n",
       "        vertical-align: middle;\n",
       "    }\n",
       "\n",
       "    .dataframe tbody tr th {\n",
       "        vertical-align: top;\n",
       "    }\n",
       "\n",
       "    .dataframe thead th {\n",
       "        text-align: right;\n",
       "    }\n",
       "</style>\n",
       "<table border=\"1\" class=\"dataframe\">\n",
       "  <thead>\n",
       "    <tr style=\"text-align: right;\">\n",
       "      <th></th>\n",
       "      <th>latitude</th>\n",
       "      <th>longitude</th>\n",
       "      <th>bright_ti4</th>\n",
       "      <th>scan</th>\n",
       "      <th>track</th>\n",
       "      <th>acq_date</th>\n",
       "      <th>acq_time</th>\n",
       "      <th>satellite</th>\n",
       "      <th>confidence</th>\n",
       "      <th>version</th>\n",
       "      <th>bright_ti5</th>\n",
       "      <th>frp</th>\n",
       "      <th>daynight</th>\n",
       "    </tr>\n",
       "  </thead>\n",
       "  <tbody>\n",
       "    <tr>\n",
       "      <th>0</th>\n",
       "      <td>65.32442</td>\n",
       "      <td>56.42158</td>\n",
       "      <td>296.0</td>\n",
       "      <td>0.43</td>\n",
       "      <td>0.62</td>\n",
       "      <td>2018-10-09</td>\n",
       "      <td>00:48</td>\n",
       "      <td>N</td>\n",
       "      <td>nominal</td>\n",
       "      <td>1.0NRT</td>\n",
       "      <td>269.4</td>\n",
       "      <td>0.5</td>\n",
       "      <td>N</td>\n",
       "    </tr>\n",
       "    <tr>\n",
       "      <th>1</th>\n",
       "      <td>66.76722</td>\n",
       "      <td>56.19038</td>\n",
       "      <td>300.9</td>\n",
       "      <td>0.36</td>\n",
       "      <td>0.57</td>\n",
       "      <td>2018-10-09</td>\n",
       "      <td>00:48</td>\n",
       "      <td>N</td>\n",
       "      <td>nominal</td>\n",
       "      <td>1.0NRT</td>\n",
       "      <td>272.8</td>\n",
       "      <td>4.2</td>\n",
       "      <td>N</td>\n",
       "    </tr>\n",
       "    <tr>\n",
       "      <th>2</th>\n",
       "      <td>66.68442</td>\n",
       "      <td>77.32233</td>\n",
       "      <td>317.6</td>\n",
       "      <td>0.70</td>\n",
       "      <td>0.75</td>\n",
       "      <td>2018-10-09</td>\n",
       "      <td>00:48</td>\n",
       "      <td>N</td>\n",
       "      <td>nominal</td>\n",
       "      <td>1.0NRT</td>\n",
       "      <td>269.6</td>\n",
       "      <td>3.8</td>\n",
       "      <td>N</td>\n",
       "    </tr>\n",
       "    <tr>\n",
       "      <th>3</th>\n",
       "      <td>66.95091</td>\n",
       "      <td>56.65474</td>\n",
       "      <td>304.7</td>\n",
       "      <td>0.35</td>\n",
       "      <td>0.57</td>\n",
       "      <td>2018-10-09</td>\n",
       "      <td>00:48</td>\n",
       "      <td>N</td>\n",
       "      <td>nominal</td>\n",
       "      <td>1.0NRT</td>\n",
       "      <td>270.7</td>\n",
       "      <td>0.9</td>\n",
       "      <td>N</td>\n",
       "    </tr>\n",
       "    <tr>\n",
       "      <th>4</th>\n",
       "      <td>67.17809</td>\n",
       "      <td>56.63229</td>\n",
       "      <td>329.7</td>\n",
       "      <td>0.34</td>\n",
       "      <td>0.56</td>\n",
       "      <td>2018-10-09</td>\n",
       "      <td>00:48</td>\n",
       "      <td>N</td>\n",
       "      <td>nominal</td>\n",
       "      <td>1.0NRT</td>\n",
       "      <td>271.7</td>\n",
       "      <td>2.7</td>\n",
       "      <td>N</td>\n",
       "    </tr>\n",
       "  </tbody>\n",
       "</table>\n",
       "</div>"
      ],
      "text/plain": [
       "   latitude  longitude  bright_ti4  scan  track    acq_date acq_time  \\\n",
       "0  65.32442   56.42158       296.0  0.43   0.62  2018-10-09    00:48   \n",
       "1  66.76722   56.19038       300.9  0.36   0.57  2018-10-09    00:48   \n",
       "2  66.68442   77.32233       317.6  0.70   0.75  2018-10-09    00:48   \n",
       "3  66.95091   56.65474       304.7  0.35   0.57  2018-10-09    00:48   \n",
       "4  67.17809   56.63229       329.7  0.34   0.56  2018-10-09    00:48   \n",
       "\n",
       "  satellite confidence version  bright_ti5  frp daynight  \n",
       "0         N    nominal  1.0NRT       269.4  0.5        N  \n",
       "1         N    nominal  1.0NRT       272.8  4.2        N  \n",
       "2         N    nominal  1.0NRT       269.6  3.8        N  \n",
       "3         N    nominal  1.0NRT       270.7  0.9        N  \n",
       "4         N    nominal  1.0NRT       271.7  2.7        N  "
      ]
     },
     "execution_count": 3,
     "metadata": {},
     "output_type": "execute_result"
    }
   ],
   "source": [
    "url = url_active_fire(local=local_active_fire, date=date_active_fire)\n",
    "headers = {\n",
    "    \"Authorization\": \"Bearer {key}\".format(key=active_fire_key),\n",
    "}\n",
    "res = requests.get(url, headers=headers)\n",
    "df = pd.read_csv(io.BytesIO(res.content))\n",
    "df.head()"
   ]
  },
  {
   "cell_type": "markdown",
   "metadata": {},
   "source": [
    "Our next data is about sea winds. The snippet of code below retrieve [blended sea winds](https://www.ncdc.noaa.gov/data-access/marineocean-data/blended-global/blended-sea-winds) data from [NOAA](https://www.noaa.gov/) via [OPeNDAP](https://www.opendap.org/)."
   ]
  },
  {
   "cell_type": "code",
   "execution_count": 4,
   "metadata": {},
   "outputs": [],
   "source": [
    "ds = xr.open_dataset(url_sea_winds(date=date_sea_winds))"
   ]
  },
  {
   "cell_type": "markdown",
   "metadata": {},
   "source": [
    "## Preparing visualization"
   ]
  },
  {
   "cell_type": "markdown",
   "metadata": {},
   "source": [
    "For active fire data, we show a heatmap distribution."
   ]
  },
  {
   "cell_type": "code",
   "execution_count": 5,
   "metadata": {},
   "outputs": [],
   "source": [
    "heatmap = Heatmap(locations=df[['latitude', 'longitude', 'frp']].values.tolist(), radius=20)"
   ]
  },
  {
   "cell_type": "markdown",
   "metadata": {},
   "source": [
    "And for sea winds, we show how is the wind behaving with direction and velocity."
   ]
  },
  {
   "cell_type": "code",
   "execution_count": 6,
   "metadata": {},
   "outputs": [],
   "source": [
    "display_options = {\n",
    "    'velocityType': 'Blended Sea Winds',\n",
    "    'displayPosition': 'bottomleft',\n",
    "    'displayEmptyString': 'No wind data'\n",
    "}\n",
    "velocity = Velocity(data=ds.isel(time=0, zlev=0),\n",
    "                    zonal_speed='u',\n",
    "                    meridional_speed='v',\n",
    "                    latitude_dimension='lat',\n",
    "                    longitude_dimension='lon',\n",
    "                    velocity_scale=0.01,\n",
    "                    max_velocity=20,\n",
    "                    display_options=display_options)"
   ]
  },
  {
   "cell_type": "markdown",
   "metadata": {},
   "source": [
    "Here, we load a [WMS](https://en.wikipedia.org/wiki/Web_Map_Service) layer with a blue marble mosaic."
   ]
  },
  {
   "cell_type": "code",
   "execution_count": 7,
   "metadata": {},
   "outputs": [],
   "source": [
    "wms = WMSLayer(\n",
    "    url=\"https://demo.boundlessgeo.com/geoserver/ows?\",\n",
    "    layers=\"nasa:bluemarble\"\n",
    ")"
   ]
  },
  {
   "cell_type": "markdown",
   "metadata": {},
   "source": [
    "For this to run properly, you must have installed [IPyleaflet](https://github.com/jupyter-widgets/ipyleaflet#installation)"
   ]
  },
  {
   "cell_type": "code",
   "execution_count": 8,
   "metadata": {},
   "outputs": [
    {
     "data": {
      "application/vnd.jupyter.widget-view+json": {
       "model_id": "33f6bd6e507144d7a3432bc993045892",
       "version_major": 2,
       "version_minor": 0
      },
      "text/plain": [
       "Map(basemap={'url': 'https://{s}.tile.openstreetmap.org/{z}/{x}/{y}.png', 'max_zoom': 19, 'attribution': 'Map …"
      ]
     },
     "metadata": {},
     "output_type": "display_data"
    }
   ],
   "source": [
    "m = Map(\n",
    "    layers=(wms,),\n",
    "    center=(0, 0),\n",
    "    zoom=1\n",
    ")\n",
    "m.add_layer(heatmap)\n",
    "m.add_layer(velocity)\n",
    "m"
   ]
  }
 ],
 "metadata": {
  "kernelspec": {
   "display_name": "Python 3 (geo)",
   "language": "python",
   "name": "geo"
  },
  "language_info": {
   "codemirror_mode": {
    "name": "ipython",
    "version": 3
   },
   "file_extension": ".py",
   "mimetype": "text/x-python",
   "name": "python",
   "nbconvert_exporter": "python",
   "pygments_lexer": "ipython3",
   "version": "3.6.6"
  }
 },
 "nbformat": 4,
 "nbformat_minor": 2
}
